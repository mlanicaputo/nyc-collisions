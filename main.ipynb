{
 "cells": [
  {
   "cell_type": "code",
   "execution_count": 288,
   "metadata": {},
   "outputs": [],
   "source": [
    "import pandas as pd\n",
    "import math\n",
    "import matplotlib.pyplot as plt\n",
    "import statistics\n",
    "from operator import add"
   ]
  },
  {
   "cell_type": "code",
   "execution_count": 289,
   "metadata": {},
   "outputs": [],
   "source": [
    "df = pd.read_csv(\"Motor_Vehicle_Collisions_-_Crashes.csv\")"
   ]
  },
  {
   "cell_type": "code",
   "execution_count": 290,
   "metadata": {},
   "outputs": [
    {
     "data": {
      "text/plain": [
       "Index(['CRASH DATE', 'CRASH TIME', 'BOROUGH', 'ZIP CODE', 'LATITUDE',\n",
       "       'LONGITUDE', 'LOCATION', 'ON STREET NAME', 'CROSS STREET NAME',\n",
       "       'OFF STREET NAME', 'NUMBER OF PERSONS INJURED',\n",
       "       'NUMBER OF PERSONS KILLED', 'NUMBER OF PEDESTRIANS INJURED',\n",
       "       'NUMBER OF PEDESTRIANS KILLED', 'NUMBER OF CYCLIST INJURED',\n",
       "       'NUMBER OF CYCLIST KILLED', 'NUMBER OF MOTORIST INJURED',\n",
       "       'NUMBER OF MOTORIST KILLED', 'CONTRIBUTING FACTOR VEHICLE 1',\n",
       "       'CONTRIBUTING FACTOR VEHICLE 2', 'CONTRIBUTING FACTOR VEHICLE 3',\n",
       "       'CONTRIBUTING FACTOR VEHICLE 4', 'CONTRIBUTING FACTOR VEHICLE 5',\n",
       "       'COLLISION_ID', 'VEHICLE TYPE CODE 1', 'VEHICLE TYPE CODE 2',\n",
       "       'VEHICLE TYPE CODE 3', 'VEHICLE TYPE CODE 4', 'VEHICLE TYPE CODE 5'],\n",
       "      dtype='object')"
      ]
     },
     "execution_count": 290,
     "metadata": {},
     "output_type": "execute_result"
    }
   ],
   "source": [
    "df.columns"
   ]
  },
  {
   "cell_type": "code",
   "execution_count": 291,
   "metadata": {},
   "outputs": [
    {
     "data": {
      "text/plain": [
       "60514"
      ]
     },
     "execution_count": 291,
     "metadata": {},
     "output_type": "execute_result"
    }
   ],
   "source": [
    "len(df)"
   ]
  },
  {
   "cell_type": "code",
   "execution_count": 292,
   "metadata": {},
   "outputs": [],
   "source": [
    "# find which zip codes have the most traffic fatalities and injuries\n",
    "# total number of fatalities, total number of injuries\n",
    "zip_fatalities_dict = dict()\n",
    "zip_injuries_dict = dict()\n",
    "\n",
    "for row in df.iterrows():\n",
    "    current_zip = row[1][3]\n",
    "    # skip nans\n",
    "    if math.isnan(current_zip):\n",
    "        continue\n",
    "\n",
    "    current_zip = int(current_zip)\n",
    "    current_fatalities = int(row[1][12])\n",
    "    current_injuries = int(row[1][11])\n",
    "    \n",
    "    dict_value_fatal = zip_fatalities_dict.get(current_zip)\n",
    "    if dict_value_fatal:\n",
    "        # add the number of fatalities to the value for the current zip code\n",
    "        zip_fatalities_dict.update({current_zip: current_fatalities + dict_value_fatal})\n",
    "    else:\n",
    "        zip_fatalities_dict.update({current_zip: current_fatalities})\n",
    "\n",
    "\n",
    "    dict_value_inj = zip_injuries_dict.get(current_zip)\n",
    "    if dict_value_inj:\n",
    "        # add the number of fatalities to the value for the current zip code\n",
    "        zip_injuries_dict.update({current_zip: current_injuries + dict_value_inj})\n",
    "    else:\n",
    "        zip_injuries_dict.update({current_zip: current_injuries})\n",
    "\n",
    "        "
   ]
  },
  {
   "cell_type": "code",
   "execution_count": 293,
   "metadata": {},
   "outputs": [
    {
     "name": "stdout",
     "output_type": "stream",
     "text": [
      "length of fatalities dict: 202\n",
      "length of injuries dict: 202\n"
     ]
    }
   ],
   "source": [
    "print(f\"length of fatalities dict: {len(zip_fatalities_dict)}\")\n",
    "print(f\"length of injuries dict: {len(zip_injuries_dict)}\")"
   ]
  },
  {
   "cell_type": "code",
   "execution_count": 294,
   "metadata": {},
   "outputs": [],
   "source": [
    "# convert to lists of tuples and sort by most injuries/fatalities\n",
    "fatalities = list(zip_fatalities_dict.items())\n",
    "injuries = list(zip_injuries_dict.items())"
   ]
  },
  {
   "cell_type": "code",
   "execution_count": 295,
   "metadata": {},
   "outputs": [],
   "source": [
    "def sort_by_second_element(lst): \n",
    " \n",
    "    return sorted(lst, key = lambda x: x[1], reverse=True)"
   ]
  },
  {
   "cell_type": "code",
   "execution_count": 296,
   "metadata": {},
   "outputs": [],
   "source": [
    "fatalities = sort_by_second_element(fatalities)\n",
    "injuries = sort_by_second_element(injuries)"
   ]
  },
  {
   "cell_type": "code",
   "execution_count": 297,
   "metadata": {},
   "outputs": [
    {
     "name": "stdout",
     "output_type": "stream",
     "text": [
      "[(11207, 93), (11368, 78), (11212, 78), (11226, 75), (11220, 71), (10029, 65), (11219, 64), (11208, 63), (11236, 61), (10457, 60), (11204, 59), (11234, 59), (10016, 59), (11214, 58), (11432, 58), (11229, 57), (11203, 57), (11235, 56), (11230, 56), (10002, 56), (10467, 55), (11372, 55), (11101, 54), (10458, 51), (11206, 50), (11373, 49), (10459, 49), (11385, 48), (10019, 48), (10456, 47), (11223, 46), (10036, 46), (10001, 45), (11354, 45), (11210, 44), (11434, 43), (11233, 43), (10468, 42), (11435, 42), (10460, 41), (11691, 41), (11218, 41), (11377, 40), (10011, 38), (11215, 38), (10022, 38), (10472, 37), (11201, 36), (10451, 35), (10027, 34), (11355, 34), (10455, 34), (10462, 34), (10035, 33), (10454, 33), (11211, 33), (11217, 32), (10453, 32), (10452, 31), (11213, 30), (10469, 30), (11433, 29), (11106, 29), (10017, 29), (10010, 27), (10032, 27), (11418, 27), (10023, 27), (11419, 26), (10461, 25), (10466, 25), (11420, 25), (10463, 25), (10013, 25), (11224, 25), (11225, 25), (10003, 25), (11222, 24), (11209, 23), (10033, 23), (11221, 22), (11369, 22), (10473, 21), (10038, 21), (11413, 21), (10301, 20), (11423, 20), (11205, 20), (11103, 20), (11367, 20), (11228, 19), (10031, 19), (11238, 19), (11232, 19), (11375, 18), (10128, 18), (11102, 18), (10009, 18), (11421, 18), (10030, 18), (11417, 17), (11358, 17), (10306, 17), (10065, 17), (10018, 16), (10312, 16), (11237, 16), (11361, 16), (10037, 16), (10021, 16), (10028, 15), (10012, 15), (10474, 15), (10025, 15), (11216, 15), (10014, 15), (10475, 15), (11374, 14), (11378, 14), (11366, 14), (10034, 14), (10305, 13), (11379, 13), (11249, 13), (11422, 13), (11104, 12), (11429, 12), (10007, 12), (10304, 12), (11428, 12), (10310, 11), (10465, 11), (10075, 11), (11436, 11), (11365, 10), (11105, 10), (10026, 10), (11231, 10), (11414, 10), (10309, 10), (10470, 10), (10039, 9), (11356, 8), (10040, 8), (11416, 8), (11411, 8), (11415, 7), (11239, 7), (11412, 7), (11357, 7), (11692, 7), (10308, 7), (11370, 6), (11427, 6), (11364, 6), (10471, 6), (10314, 6), (10005, 5), (11363, 5), (10024, 5), (11426, 5), (10006, 5), (10004, 5), (11004, 4), (11694, 4), (11693, 3), (10280, 3), (11362, 2), (11360, 2), (10464, 2), (10020, 2), (10307, 1), (11001, 1), (11430, 1), (10278, 1), (10119, 1), (11040, 1), (10302, 1), (10069, 1), (10172, 1), (10112, 1), (10041, 0), (11359, 0), (10000, 0), (11005, 0), (10281, 0), (10165, 0), (10152, 0), (11697, 0), (10282, 0), (10118, 0), (10178, 0), (10168, 0), (10153, 0), (10110, 0), (10169, 0), (11109, 0), (10120, 0), (10044, 0), (10173, 0), (11251, 0), (10121, 0)]\n"
     ]
    }
   ],
   "source": [
    "print(fatalities)"
   ]
  },
  {
   "cell_type": "code",
   "execution_count": 298,
   "metadata": {},
   "outputs": [],
   "source": [
    "top_10_fatality_zip = fatalities[:10]\n",
    "top_10_injury_zip = injuries[:10]"
   ]
  },
  {
   "cell_type": "code",
   "execution_count": 299,
   "metadata": {},
   "outputs": [
    {
     "name": "stdout",
     "output_type": "stream",
     "text": [
      "zip codes with the highest fatalities: [(11207, 93), (11368, 78), (11212, 78), (11226, 75), (11220, 71), (10029, 65), (11219, 64), (11208, 63), (11236, 61), (10457, 60)]\n",
      "zip codes with the highest injuries: [(10002, 5), (11372, 4), (10451, 3), (11206, 3), (11220, 3), (11377, 3), (10033, 3), (11237, 3), (10468, 3), (10474, 3)]\n"
     ]
    }
   ],
   "source": [
    "print(f\"zip codes with the highest fatalities: {top_10_fatality_zip}\")\n",
    "print(f\"zip codes with the highest injuries: {top_10_injury_zip}\")"
   ]
  },
  {
   "cell_type": "code",
   "execution_count": 300,
   "metadata": {},
   "outputs": [
    {
     "data": {
      "text/plain": [
       "17.0"
      ]
     },
     "execution_count": 300,
     "metadata": {},
     "output_type": "execute_result"
    }
   ],
   "source": [
    "median_fatality = statistics.median([tup[1] for tup in fatalities])\n",
    "median_fatality"
   ]
  },
  {
   "cell_type": "code",
   "execution_count": 301,
   "metadata": {},
   "outputs": [
    {
     "data": {
      "image/png": "[encoded data removed]",
      "text/plain": [
       "<Figure size 720x360 with 1 Axes>"
      ]
     },
     "metadata": {
      "needs_background": "light"
     },
     "output_type": "display_data"
    }
   ],
   "source": [
    "fig, ax = plt.subplots(figsize=(10, 5))\n",
    "\n",
    "zips = [str(tup[0]) for tup in top_10_fatality_zip]\n",
    "fatalities = [tup[1] for tup in top_10_fatality_zip]\n",
    "\n",
    "ax.bar(zips, fatalities, width=.5)\n",
    "plt.xticks(rotation=45)\n",
    "plt.axhline(median_fatality, color=\"r\")\n",
    "\n",
    "ax.set_ylabel('Fatalities')\n",
    "ax.set_xlabel(\"ZIP code\")\n",
    "ax.set_title('Top 10 NYC ZIP codes by traffic fatalities, compared to median')\n",
    "\n",
    "plt.show()"
   ]
  },
  {
   "cell_type": "code",
   "execution_count": 302,
   "metadata": {},
   "outputs": [
    {
     "data": {
      "text/plain": [
       "'`ZIP CODE` == 11207.0 | `ZIP CODE` == 11368.0 | `ZIP CODE` == 11212.0 | `ZIP CODE` == 11226.0 | `ZIP CODE` == 11220.0 | `ZIP CODE` == 10029.0 | `ZIP CODE` == 11219.0 | `ZIP CODE` == 11208.0 | `ZIP CODE` == 11236.0 | `ZIP CODE` == 10457.0'"
      ]
     },
     "execution_count": 302,
     "metadata": {},
     "output_type": "execute_result"
    }
   ],
   "source": [
    "# obtain granular location data\n",
    "# top 10 streets for each zip code\n",
    "\n",
    "top_10_zip_float = [float(tup[0]) for tup in top_10_fatality_zip]\n",
    "\n",
    "string_arg = \"\"\n",
    "for flt in top_10_zip_float:\n",
    "    string_arg += (\"`ZIP CODE` == \" + str(flt) + \" | \")\n",
    "\n",
    "string_arg = string_arg[:-3]\n",
    "string_arg"
   ]
  },
  {
   "cell_type": "code",
   "execution_count": 303,
   "metadata": {},
   "outputs": [],
   "source": [
    "reduced_df = df.query(string_arg)"
   ]
  },
  {
   "cell_type": "code",
   "execution_count": 304,
   "metadata": {},
   "outputs": [
    {
     "data": {
      "text/plain": [
       "11207.0    1023\n",
       "11236.0     702\n",
       "11208.0     694\n",
       "11212.0     638\n",
       "11226.0     614\n",
       "           ... \n",
       "10153.0       1\n",
       "10178.0       1\n",
       "10041.0       1\n",
       "10152.0       1\n",
       "10112.0       1\n",
       "Name: ZIP CODE, Length: 202, dtype: int64"
      ]
     },
     "execution_count": 304,
     "metadata": {},
     "output_type": "execute_result"
    }
   ],
   "source": [
    "# get on street name for each zip\n",
    "# 11207\n",
    "df[\"ZIP CODE\"].value_counts()"
   ]
  },
  {
   "cell_type": "code",
   "execution_count": 305,
   "metadata": {},
   "outputs": [
    {
     "name": "stdout",
     "output_type": "stream",
     "text": [
      "ZIP CODE  NUMBER OF PERSONS KILLED\n",
      "11372.0   1                           4\n",
      "11206.0   1                           3\n",
      "11220.0   1                           3\n",
      "10033.0   1                           3\n",
      "11377.0   1                           3\n",
      "                                     ..\n",
      "11101.0   1                           1\n",
      "11103.0   1                           1\n",
      "10002.0   4                           1\n",
      "11106.0   1                           1\n",
      "11434.0   1                           1\n",
      "Length: 70, dtype: int64\n"
     ]
    }
   ],
   "source": [
    "# size of fatality\n",
    "sub_df = df[[\"ZIP CODE\", \"NUMBER OF PERSONS KILLED\"]]\n",
    "sub_df = sub_df[df[\"NUMBER OF PERSONS KILLED\"] > 0]\n",
    "sub_df = sub_df.sort_values(\"NUMBER OF PERSONS KILLED\")\n",
    "print(sub_df.value_counts())"
   ]
  },
  {
   "cell_type": "code",
   "execution_count": 306,
   "metadata": {},
   "outputs": [],
   "source": [
    "sizes = pd.DataFrame(sub_df)"
   ]
  },
  {
   "cell_type": "code",
   "execution_count": 307,
   "metadata": {},
   "outputs": [
    {
     "data": {
      "text/plain": [
       "NUMBER OF PERSONS KILLED\n",
       "0    60346\n",
       "1      161\n",
       "2        6\n",
       "4        1\n",
       "dtype: int64"
      ]
     },
     "execution_count": 307,
     "metadata": {},
     "output_type": "execute_result"
    }
   ],
   "source": [
    "# how many accidents have 0 fatalities?\n",
    "df.value_counts(\"NUMBER OF PERSONS KILLED\")"
   ]
  },
  {
   "cell_type": "code",
   "execution_count": 308,
   "metadata": {},
   "outputs": [
    {
     "name": "stdout",
     "output_type": "stream",
     "text": [
      "99.7223782926265 percent of collisions have 0 fatalities\n"
     ]
    }
   ],
   "source": [
    "length = len(df)\n",
    "\n",
    "print(f\"{60346 / length * 100} percent of collisions have 0 fatalities\")"
   ]
  },
  {
   "cell_type": "code",
   "execution_count": 309,
   "metadata": {},
   "outputs": [],
   "source": [
    "# what is the most common time for an accident?\n",
    "times = reduced_df[\"CRASH TIME\"].tolist()"
   ]
  },
  {
   "cell_type": "code",
   "execution_count": 310,
   "metadata": {},
   "outputs": [
    {
     "name": "stdout",
     "output_type": "stream",
     "text": [
      "5903\n"
     ]
    }
   ],
   "source": [
    "times = [time.split(\":\")[0] for time in times]\n",
    "print(len(times))"
   ]
  },
  {
   "cell_type": "code",
   "execution_count": 311,
   "metadata": {},
   "outputs": [
    {
     "data": {
      "text/html": [
       "<div>\n",
       "<style scoped>\n",
       "    .dataframe tbody tr th:only-of-type {\n",
       "        vertical-align: middle;\n",
       "    }\n",
       "\n",
       "    .dataframe tbody tr th {\n",
       "        vertical-align: top;\n",
       "    }\n",
       "\n",
       "    .dataframe thead th {\n",
       "        text-align: right;\n",
       "    }\n",
       "</style>\n",
       "<table border=\"1\" class=\"dataframe\">\n",
       "  <thead>\n",
       "    <tr style=\"text-align: right;\">\n",
       "      <th></th>\n",
       "      <th>0</th>\n",
       "    </tr>\n",
       "  </thead>\n",
       "  <tbody>\n",
       "    <tr>\n",
       "      <th>17</th>\n",
       "      <td>358</td>\n",
       "    </tr>\n",
       "    <tr>\n",
       "      <th>15</th>\n",
       "      <td>351</td>\n",
       "    </tr>\n",
       "    <tr>\n",
       "      <th>16</th>\n",
       "      <td>344</td>\n",
       "    </tr>\n",
       "    <tr>\n",
       "      <th>14</th>\n",
       "      <td>333</td>\n",
       "    </tr>\n",
       "    <tr>\n",
       "      <th>18</th>\n",
       "      <td>324</td>\n",
       "    </tr>\n",
       "    <tr>\n",
       "      <th>19</th>\n",
       "      <td>323</td>\n",
       "    </tr>\n",
       "    <tr>\n",
       "      <th>8</th>\n",
       "      <td>309</td>\n",
       "    </tr>\n",
       "    <tr>\n",
       "      <th>13</th>\n",
       "      <td>292</td>\n",
       "    </tr>\n",
       "    <tr>\n",
       "      <th>0</th>\n",
       "      <td>288</td>\n",
       "    </tr>\n",
       "    <tr>\n",
       "      <th>20</th>\n",
       "      <td>279</td>\n",
       "    </tr>\n",
       "    <tr>\n",
       "      <th>9</th>\n",
       "      <td>275</td>\n",
       "    </tr>\n",
       "    <tr>\n",
       "      <th>22</th>\n",
       "      <td>255</td>\n",
       "    </tr>\n",
       "    <tr>\n",
       "      <th>21</th>\n",
       "      <td>253</td>\n",
       "    </tr>\n",
       "    <tr>\n",
       "      <th>12</th>\n",
       "      <td>252</td>\n",
       "    </tr>\n",
       "    <tr>\n",
       "      <th>10</th>\n",
       "      <td>240</td>\n",
       "    </tr>\n",
       "    <tr>\n",
       "      <th>11</th>\n",
       "      <td>226</td>\n",
       "    </tr>\n",
       "    <tr>\n",
       "      <th>23</th>\n",
       "      <td>211</td>\n",
       "    </tr>\n",
       "    <tr>\n",
       "      <th>7</th>\n",
       "      <td>204</td>\n",
       "    </tr>\n",
       "    <tr>\n",
       "      <th>6</th>\n",
       "      <td>157</td>\n",
       "    </tr>\n",
       "    <tr>\n",
       "      <th>1</th>\n",
       "      <td>152</td>\n",
       "    </tr>\n",
       "    <tr>\n",
       "      <th>5</th>\n",
       "      <td>138</td>\n",
       "    </tr>\n",
       "    <tr>\n",
       "      <th>2</th>\n",
       "      <td>124</td>\n",
       "    </tr>\n",
       "    <tr>\n",
       "      <th>4</th>\n",
       "      <td>114</td>\n",
       "    </tr>\n",
       "    <tr>\n",
       "      <th>3</th>\n",
       "      <td>101</td>\n",
       "    </tr>\n",
       "  </tbody>\n",
       "</table>\n",
       "</div>"
      ],
      "text/plain": [
       "      0\n",
       "17  358\n",
       "15  351\n",
       "16  344\n",
       "14  333\n",
       "18  324\n",
       "19  323\n",
       "8   309\n",
       "13  292\n",
       "0   288\n",
       "20  279\n",
       "9   275\n",
       "22  255\n",
       "21  253\n",
       "12  252\n",
       "10  240\n",
       "11  226\n",
       "23  211\n",
       "7   204\n",
       "6   157\n",
       "1   152\n",
       "5   138\n",
       "2   124\n",
       "4   114\n",
       "3   101"
      ]
     },
     "execution_count": 311,
     "metadata": {},
     "output_type": "execute_result"
    }
   ],
   "source": [
    "time_series = pd.Series(times)\n",
    "time_df = pd.DataFrame(time_series.value_counts())\n",
    "\n",
    "time_df"
   ]
  },
  {
   "cell_type": "code",
   "execution_count": 312,
   "metadata": {},
   "outputs": [],
   "source": [
    "times = list(time_df.index)\n",
    "collisions = list(time_df[0])"
   ]
  },
  {
   "cell_type": "code",
   "execution_count": 313,
   "metadata": {},
   "outputs": [
    {
     "data": {
      "text/plain": [
       "[17,\n",
       " 15,\n",
       " 16,\n",
       " 14,\n",
       " 18,\n",
       " 19,\n",
       " 8,\n",
       " 13,\n",
       " 0,\n",
       " 20,\n",
       " 9,\n",
       " 22,\n",
       " 21,\n",
       " 12,\n",
       " 10,\n",
       " 11,\n",
       " 23,\n",
       " 7,\n",
       " 6,\n",
       " 1,\n",
       " 5,\n",
       " 2,\n",
       " 4,\n",
       " 3]"
      ]
     },
     "execution_count": 313,
     "metadata": {},
     "output_type": "execute_result"
    }
   ],
   "source": [
    "times = [int(time) for time in times]\n",
    "times"
   ]
  },
  {
   "cell_type": "code",
   "execution_count": 314,
   "metadata": {},
   "outputs": [
    {
     "data": {
      "text/plain": [
       "[358,\n",
       " 351,\n",
       " 344,\n",
       " 333,\n",
       " 324,\n",
       " 323,\n",
       " 309,\n",
       " 292,\n",
       " 288,\n",
       " 279,\n",
       " 275,\n",
       " 255,\n",
       " 253,\n",
       " 252,\n",
       " 240,\n",
       " 226,\n",
       " 211,\n",
       " 204,\n",
       " 157,\n",
       " 152,\n",
       " 138,\n",
       " 124,\n",
       " 114,\n",
       " 101]"
      ]
     },
     "execution_count": 314,
     "metadata": {},
     "output_type": "execute_result"
    }
   ],
   "source": [
    "collisions"
   ]
  },
  {
   "cell_type": "code",
   "execution_count": 315,
   "metadata": {},
   "outputs": [
    {
     "data": {
      "text/plain": [
       "[(0, 288),\n",
       " (1, 152),\n",
       " (2, 124),\n",
       " (3, 101),\n",
       " (4, 114),\n",
       " (5, 138),\n",
       " (6, 157),\n",
       " (7, 204),\n",
       " (8, 309),\n",
       " (9, 275),\n",
       " (10, 240),\n",
       " (11, 226),\n",
       " (12, 252),\n",
       " (13, 292),\n",
       " (14, 333),\n",
       " (15, 351),\n",
       " (16, 344),\n",
       " (17, 358),\n",
       " (18, 324),\n",
       " (19, 323),\n",
       " (20, 279),\n",
       " (21, 253),\n",
       " (22, 255),\n",
       " (23, 211)]"
      ]
     },
     "execution_count": 315,
     "metadata": {},
     "output_type": "execute_result"
    }
   ],
   "source": [
    "hour_data = list(zip(times, collisions))\n",
    "\n",
    "def sort_by_first_element(lst): \n",
    " \n",
    "    return sorted(lst, key = lambda x: x[0], reverse=False)\n",
    "\n",
    "hour_data = sort_by_first_element(hour_data)\n",
    "hour_data"
   ]
  },
  {
   "cell_type": "code",
   "execution_count": 316,
   "metadata": {},
   "outputs": [],
   "source": [
    "times = [tup[0] for tup in hour_data]\n",
    "collisions = [tup[1] for tup in hour_data]"
   ]
  },
  {
   "cell_type": "code",
   "execution_count": 317,
   "metadata": {},
   "outputs": [
    {
     "data": {
      "image/png": "[encoded data removed]",
      "text/plain": [
       "<Figure size 1296x360 with 1 Axes>"
      ]
     },
     "metadata": {
      "needs_background": "light"
     },
     "output_type": "display_data"
    },
    {
     "data": {
      "text/plain": [
       "<Figure size 432x288 with 0 Axes>"
      ]
     },
     "metadata": {},
     "output_type": "display_data"
    }
   ],
   "source": [
    "fig, ax = plt.subplots(figsize=(18, 5))\n",
    "\n",
    "ax.bar(times, collisions, width=.5, tick_label=times)\n",
    "# plt.xticks(rotation=45)\n",
    "# plt.axhline(68, color=\"r\")\n",
    "f = plt.figure()\n",
    "\n",
    "ax.set_ylabel('Collisions')\n",
    "ax.set_xlabel(\"Times\")\n",
    "ax.set_title('Number of collisions by hour of day in the top 10 collision ZIPs')\n",
    "\n",
    "plt.show()"
   ]
  },
  {
   "cell_type": "code",
   "execution_count": null,
   "metadata": {},
   "outputs": [],
   "source": []
  }
 ],
 "metadata": {
  "kernelspec": {
   "display_name": "data_science",
   "language": "python",
   "name": "python3"
  },
  "language_info": {
   "codemirror_mode": {
    "name": "ipython",
    "version": 3
   },
   "file_extension": ".py",
   "mimetype": "text/x-python",
   "name": "python",
   "nbconvert_exporter": "python",
   "pygments_lexer": "ipython3",
   "version": "3.9.12"
  }
 },
 "nbformat": 4,
 "nbformat_minor": 2
}
